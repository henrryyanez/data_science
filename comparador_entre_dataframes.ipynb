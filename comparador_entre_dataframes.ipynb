{
  "nbformat": 4,
  "nbformat_minor": 0,
  "metadata": {
    "colab": {
      "name": "comparador_entre_dataframes.ipynb",
      "provenance": []
    },
    "kernelspec": {
      "name": "python3",
      "display_name": "Python 3"
    }
  },
  "cells": [
    {
      "cell_type": "code",
      "metadata": {
        "id": "f6MGuI46fcoK",
        "colab_type": "code",
        "colab": {}
      },
      "source": [
        "import pandas as pd\n",
        "import numpy as np"
      ],
      "execution_count": 0,
      "outputs": []
    },
    {
      "cell_type": "code",
      "metadata": {
        "id": "Gfqj4TZjfhv1",
        "colab_type": "code",
        "colab": {}
      },
      "source": [
        "df1=pd.DataFrame({\n",
        "    'Date':['2013-11-25','2013-11-24','2013-11-25','2013-11-24'],\n",
        "    'Fruit':['Banana','Orange','Apple','Celery'],\n",
        "    'Num':[34,85,77,78],\n",
        "    'Color':['Yellow','Orange','Green','Green'],\n",
        "})\n",
        "df2=pd.DataFrame({\n",
        "    'Date':['2013-11-24','2013-11-24','2013-11-24','2013-11-24','2013-11-25','2013-11-25'],\n",
        "    'Fruit':['Banana','Orange','Apple','Celery','Apple','Orange'],\n",
        "    'Num':[55,85,71,18,34,38],\n",
        "    'Color':['Yellow','Orange','Green','Green','Red','Orange'],\n",
        "})"
      ],
      "execution_count": 0,
      "outputs": []
    },
    {
      "cell_type": "code",
      "metadata": {
        "id": "-cyEnRVffptJ",
        "colab_type": "code",
        "colab": {
          "base_uri": "https://localhost:8080/",
          "height": 173
        },
        "outputId": "22e63a8a-714b-4a70-8e51-b6bca3925305"
      },
      "source": [
        "df1.head()"
      ],
      "execution_count": 4,
      "outputs": [
        {
          "output_type": "execute_result",
          "data": {
            "text/html": [
              "<div>\n",
              "<style scoped>\n",
              "    .dataframe tbody tr th:only-of-type {\n",
              "        vertical-align: middle;\n",
              "    }\n",
              "\n",
              "    .dataframe tbody tr th {\n",
              "        vertical-align: top;\n",
              "    }\n",
              "\n",
              "    .dataframe thead th {\n",
              "        text-align: right;\n",
              "    }\n",
              "</style>\n",
              "<table border=\"1\" class=\"dataframe\">\n",
              "  <thead>\n",
              "    <tr style=\"text-align: right;\">\n",
              "      <th></th>\n",
              "      <th>Date</th>\n",
              "      <th>Fruit</th>\n",
              "      <th>Num</th>\n",
              "      <th>Color</th>\n",
              "    </tr>\n",
              "  </thead>\n",
              "  <tbody>\n",
              "    <tr>\n",
              "      <th>0</th>\n",
              "      <td>2013-11-25</td>\n",
              "      <td>Banana</td>\n",
              "      <td>34</td>\n",
              "      <td>Yellow</td>\n",
              "    </tr>\n",
              "    <tr>\n",
              "      <th>1</th>\n",
              "      <td>2013-11-24</td>\n",
              "      <td>Orange</td>\n",
              "      <td>85</td>\n",
              "      <td>Orange</td>\n",
              "    </tr>\n",
              "    <tr>\n",
              "      <th>2</th>\n",
              "      <td>2013-11-25</td>\n",
              "      <td>Apple</td>\n",
              "      <td>77</td>\n",
              "      <td>Green</td>\n",
              "    </tr>\n",
              "    <tr>\n",
              "      <th>3</th>\n",
              "      <td>2013-11-24</td>\n",
              "      <td>Celery</td>\n",
              "      <td>78</td>\n",
              "      <td>Green</td>\n",
              "    </tr>\n",
              "  </tbody>\n",
              "</table>\n",
              "</div>"
            ],
            "text/plain": [
              "         Date   Fruit  Num   Color\n",
              "0  2013-11-25  Banana   34  Yellow\n",
              "1  2013-11-24  Orange   85  Orange\n",
              "2  2013-11-25   Apple   77   Green\n",
              "3  2013-11-24  Celery   78   Green"
            ]
          },
          "metadata": {
            "tags": []
          },
          "execution_count": 4
        }
      ]
    },
    {
      "cell_type": "code",
      "metadata": {
        "id": "Ubk9T3lXftDD",
        "colab_type": "code",
        "colab": {
          "base_uri": "https://localhost:8080/",
          "height": 204
        },
        "outputId": "3b87f2ce-ec65-409f-8de0-cc9e488d2984"
      },
      "source": [
        "df2.head()"
      ],
      "execution_count": 5,
      "outputs": [
        {
          "output_type": "execute_result",
          "data": {
            "text/html": [
              "<div>\n",
              "<style scoped>\n",
              "    .dataframe tbody tr th:only-of-type {\n",
              "        vertical-align: middle;\n",
              "    }\n",
              "\n",
              "    .dataframe tbody tr th {\n",
              "        vertical-align: top;\n",
              "    }\n",
              "\n",
              "    .dataframe thead th {\n",
              "        text-align: right;\n",
              "    }\n",
              "</style>\n",
              "<table border=\"1\" class=\"dataframe\">\n",
              "  <thead>\n",
              "    <tr style=\"text-align: right;\">\n",
              "      <th></th>\n",
              "      <th>Date</th>\n",
              "      <th>Fruit</th>\n",
              "      <th>Num</th>\n",
              "      <th>Color</th>\n",
              "    </tr>\n",
              "  </thead>\n",
              "  <tbody>\n",
              "    <tr>\n",
              "      <th>0</th>\n",
              "      <td>2013-11-24</td>\n",
              "      <td>Banana</td>\n",
              "      <td>55</td>\n",
              "      <td>Yellow</td>\n",
              "    </tr>\n",
              "    <tr>\n",
              "      <th>1</th>\n",
              "      <td>2013-11-24</td>\n",
              "      <td>Orange</td>\n",
              "      <td>85</td>\n",
              "      <td>Orange</td>\n",
              "    </tr>\n",
              "    <tr>\n",
              "      <th>2</th>\n",
              "      <td>2013-11-24</td>\n",
              "      <td>Apple</td>\n",
              "      <td>71</td>\n",
              "      <td>Green</td>\n",
              "    </tr>\n",
              "    <tr>\n",
              "      <th>3</th>\n",
              "      <td>2013-11-24</td>\n",
              "      <td>Celery</td>\n",
              "      <td>18</td>\n",
              "      <td>Green</td>\n",
              "    </tr>\n",
              "    <tr>\n",
              "      <th>4</th>\n",
              "      <td>2013-11-25</td>\n",
              "      <td>Apple</td>\n",
              "      <td>34</td>\n",
              "      <td>Red</td>\n",
              "    </tr>\n",
              "  </tbody>\n",
              "</table>\n",
              "</div>"
            ],
            "text/plain": [
              "         Date   Fruit  Num   Color\n",
              "0  2013-11-24  Banana   55  Yellow\n",
              "1  2013-11-24  Orange   85  Orange\n",
              "2  2013-11-24   Apple   71   Green\n",
              "3  2013-11-24  Celery   18   Green\n",
              "4  2013-11-25   Apple   34     Red"
            ]
          },
          "metadata": {
            "tags": []
          },
          "execution_count": 5
        }
      ]
    },
    {
      "cell_type": "code",
      "metadata": {
        "id": "fA4tN5lWgCTr",
        "colab_type": "code",
        "colab": {
          "base_uri": "https://localhost:8080/",
          "height": 328
        },
        "outputId": "dffd8d8b-0986-4d49-a61b-aad52735691a"
      },
      "source": [
        "df1.merge(df2,  how='outer', indicator='union')"
      ],
      "execution_count": 6,
      "outputs": [
        {
          "output_type": "execute_result",
          "data": {
            "text/html": [
              "<div>\n",
              "<style scoped>\n",
              "    .dataframe tbody tr th:only-of-type {\n",
              "        vertical-align: middle;\n",
              "    }\n",
              "\n",
              "    .dataframe tbody tr th {\n",
              "        vertical-align: top;\n",
              "    }\n",
              "\n",
              "    .dataframe thead th {\n",
              "        text-align: right;\n",
              "    }\n",
              "</style>\n",
              "<table border=\"1\" class=\"dataframe\">\n",
              "  <thead>\n",
              "    <tr style=\"text-align: right;\">\n",
              "      <th></th>\n",
              "      <th>Date</th>\n",
              "      <th>Fruit</th>\n",
              "      <th>Num</th>\n",
              "      <th>Color</th>\n",
              "      <th>union</th>\n",
              "    </tr>\n",
              "  </thead>\n",
              "  <tbody>\n",
              "    <tr>\n",
              "      <th>0</th>\n",
              "      <td>2013-11-25</td>\n",
              "      <td>Banana</td>\n",
              "      <td>34</td>\n",
              "      <td>Yellow</td>\n",
              "      <td>left_only</td>\n",
              "    </tr>\n",
              "    <tr>\n",
              "      <th>1</th>\n",
              "      <td>2013-11-24</td>\n",
              "      <td>Orange</td>\n",
              "      <td>85</td>\n",
              "      <td>Orange</td>\n",
              "      <td>both</td>\n",
              "    </tr>\n",
              "    <tr>\n",
              "      <th>2</th>\n",
              "      <td>2013-11-25</td>\n",
              "      <td>Apple</td>\n",
              "      <td>77</td>\n",
              "      <td>Green</td>\n",
              "      <td>left_only</td>\n",
              "    </tr>\n",
              "    <tr>\n",
              "      <th>3</th>\n",
              "      <td>2013-11-24</td>\n",
              "      <td>Celery</td>\n",
              "      <td>78</td>\n",
              "      <td>Green</td>\n",
              "      <td>left_only</td>\n",
              "    </tr>\n",
              "    <tr>\n",
              "      <th>4</th>\n",
              "      <td>2013-11-24</td>\n",
              "      <td>Banana</td>\n",
              "      <td>55</td>\n",
              "      <td>Yellow</td>\n",
              "      <td>right_only</td>\n",
              "    </tr>\n",
              "    <tr>\n",
              "      <th>5</th>\n",
              "      <td>2013-11-24</td>\n",
              "      <td>Apple</td>\n",
              "      <td>71</td>\n",
              "      <td>Green</td>\n",
              "      <td>right_only</td>\n",
              "    </tr>\n",
              "    <tr>\n",
              "      <th>6</th>\n",
              "      <td>2013-11-24</td>\n",
              "      <td>Celery</td>\n",
              "      <td>18</td>\n",
              "      <td>Green</td>\n",
              "      <td>right_only</td>\n",
              "    </tr>\n",
              "    <tr>\n",
              "      <th>7</th>\n",
              "      <td>2013-11-25</td>\n",
              "      <td>Apple</td>\n",
              "      <td>34</td>\n",
              "      <td>Red</td>\n",
              "      <td>right_only</td>\n",
              "    </tr>\n",
              "    <tr>\n",
              "      <th>8</th>\n",
              "      <td>2013-11-25</td>\n",
              "      <td>Orange</td>\n",
              "      <td>38</td>\n",
              "      <td>Orange</td>\n",
              "      <td>right_only</td>\n",
              "    </tr>\n",
              "  </tbody>\n",
              "</table>\n",
              "</div>"
            ],
            "text/plain": [
              "         Date   Fruit  Num   Color       union\n",
              "0  2013-11-25  Banana   34  Yellow   left_only\n",
              "1  2013-11-24  Orange   85  Orange        both\n",
              "2  2013-11-25   Apple   77   Green   left_only\n",
              "3  2013-11-24  Celery   78   Green   left_only\n",
              "4  2013-11-24  Banana   55  Yellow  right_only\n",
              "5  2013-11-24   Apple   71   Green  right_only\n",
              "6  2013-11-24  Celery   18   Green  right_only\n",
              "7  2013-11-25   Apple   34     Red  right_only\n",
              "8  2013-11-25  Orange   38  Orange  right_only"
            ]
          },
          "metadata": {
            "tags": []
          },
          "execution_count": 6
        }
      ]
    }
  ]
}